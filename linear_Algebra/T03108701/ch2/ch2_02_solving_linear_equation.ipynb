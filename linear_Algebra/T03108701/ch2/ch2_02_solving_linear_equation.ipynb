{
  "nbformat": 4,
  "nbformat_minor": 0,
  "metadata": {
    "colab": {
      "name": "ch2_01_solving_linear_equation.ipynb",
      "provenance": [],
      "collapsed_sections": []
    },
    "kernelspec": {
      "name": "python3",
      "display_name": "Python 3"
    },
    "accelerator": "GPU"
  },
  "cells": [
    {
      "cell_type": "markdown",
      "metadata": {
        "colab_type": "text",
        "id": "-K3ytRspwc5u"
      },
      "source": [
        "# The cost of solving linear equation\n",
        "이번 실습은 matrix size가 커짐에 따라 elimination에 필요한 연산시간이 어떻게 변하는 지를 살펴 보겠습니다. 또한, GPU의 활용이 큰 matrix 연산에 도움을 주는 것을 실습을 통해 확인해 보겠습니다."
      ]
    },
    {
      "cell_type": "code",
      "metadata": {
        "colab_type": "code",
        "id": "y63sqZDCq9vT",
        "colab": {}
      },
      "source": [
        "import numpy as np\n",
        "import cupy as cp\n",
        "import time"
      ],
      "execution_count": 4,
      "outputs": []
    },
    {
      "cell_type": "markdown",
      "metadata": {
        "colab_type": "text",
        "id": "SDnNVNcnw-On"
      },
      "source": [
        "- chapter 2에서 우리는 determinant A가 0이 아닌 matrix A에 대해서 elimination method를 이용하여 upper triangular matrix를 만들어 Ax = b 를 풀 수 있음을 확인하였습니다. 수업에서는 2x2, 3x3 matrix들을 다루었지만, 좀 더 큰 matrix를 살펴보겠습니다."
      ]
    },
    {
      "cell_type": "code",
      "metadata": {
        "id": "tFvHd3AeR8_T",
        "colab_type": "code",
        "outputId": "7cdc8df1-4dea-4b8a-aa66-d48947c34d8b",
        "colab": {
          "base_uri": "https://localhost:8080/",
          "height": 391
        }
      },
      "source": [
        "n=8\n",
        "A = np.random.randint(-10,10,size=(n,n))\n",
        "print('A=\\n',A)\n",
        "print('\\n det(A)=',np.linalg.det(A))\n",
        "\n",
        "B = np.random.randint(-10,10,size=(n,n))\n",
        "B[1,:]=B[0,:]*2\n",
        "print('B=\\n',B)\n",
        "print('\\n det(B)=',np.linalg.det(B))"
      ],
      "execution_count": 2,
      "outputs": [
        {
          "output_type": "stream",
          "text": [
            "A=\n",
            " [[ -1   5  -3   2 -10  -5   2   7]\n",
            " [  7  -3   0   1   9 -10   6  -1]\n",
            " [ -3  -4   3  -4   7  -8  -7   1]\n",
            " [  9   4  -5  -1  -6   5   0   8]\n",
            " [ -3  -7  -5  -2  -6   3  -9  -7]\n",
            " [ -6  -1   3  -8   0   7   2  -7]\n",
            " [ -5  -9  -1   1   2  -4 -10   8]\n",
            " [  0   7   4   1   5  -2   2  -8]]\n",
            "\n",
            " det(A)= 39147547.99999993\n",
            "B=\n",
            " [[ -6  -3  -6   5   0  -7   1   6]\n",
            " [-12  -6 -12  10   0 -14   2  12]\n",
            " [ -8  -6  -2   8   7   1  -6   1]\n",
            " [ -7   9  -8  -8 -10   8  -3  -8]\n",
            " [ -1   0  -1   7 -10   5  -9  -5]\n",
            " [  5 -10   2  -3   1   0  -4   3]\n",
            " [ -1   6  -4   8   1   9  -8  -2]\n",
            " [ -3   5  -5   6   8   1 -10   8]]\n",
            "\n",
            " det(B)= 0.0\n"
          ],
          "name": "stdout"
        }
      ]
    },
    {
      "cell_type": "markdown",
      "metadata": {
        "id": "sOTI6ZjWgEYE",
        "colab_type": "text"
      },
      "source": [
        "- B는 determinant가 0이므로 singular matrix입니다. singular matrix B에 대해서는 linalg.solve가 solution을 줄 수 없습니다."
      ]
    },
    {
      "cell_type": "code",
      "metadata": {
        "id": "GeJO5PwYZHke",
        "colab_type": "code",
        "colab": {
          "base_uri": "https://localhost:8080/",
          "height": 545
        },
        "outputId": "8d2fa43b-5fa6-489e-d2e3-f4820811d65c"
      },
      "source": [
        "x = np.linalg.solve(A,np.random.randint(-10,10,size=(n,1)))\n",
        "print('solution of Ax = b: \\n',x)\n",
        "\n",
        "x = np.linalg.solve(B,np.random.randint(-10,10,size=(n,1)))\n",
        "print('solution of Bx = b: \\n',x)\n"
      ],
      "execution_count": 3,
      "outputs": [
        {
          "output_type": "stream",
          "text": [
            "solution of Ax = b: \n",
            " [[-3.48114922]\n",
            " [ 3.07758918]\n",
            " [-9.29431667]\n",
            " [-1.32095604]\n",
            " [ 4.49437405]\n",
            " [ 0.25355892]\n",
            " [ 0.95812131]\n",
            " [-0.25926293]]\n"
          ],
          "name": "stdout"
        },
        {
          "output_type": "error",
          "ename": "LinAlgError",
          "evalue": "ignored",
          "traceback": [
            "\u001b[0;31m---------------------------------------------------------------------------\u001b[0m",
            "\u001b[0;31mLinAlgError\u001b[0m                               Traceback (most recent call last)",
            "\u001b[0;32m<ipython-input-3-ff2ccc27d3df>\u001b[0m in \u001b[0;36m<module>\u001b[0;34m()\u001b[0m\n\u001b[1;32m      2\u001b[0m \u001b[0mprint\u001b[0m\u001b[0;34m(\u001b[0m\u001b[0;34m'solution of Ax = b: \\n'\u001b[0m\u001b[0;34m,\u001b[0m\u001b[0mx\u001b[0m\u001b[0;34m)\u001b[0m\u001b[0;34m\u001b[0m\u001b[0;34m\u001b[0m\u001b[0m\n\u001b[1;32m      3\u001b[0m \u001b[0;34m\u001b[0m\u001b[0m\n\u001b[0;32m----> 4\u001b[0;31m \u001b[0mx\u001b[0m \u001b[0;34m=\u001b[0m \u001b[0mnp\u001b[0m\u001b[0;34m.\u001b[0m\u001b[0mlinalg\u001b[0m\u001b[0;34m.\u001b[0m\u001b[0msolve\u001b[0m\u001b[0;34m(\u001b[0m\u001b[0mB\u001b[0m\u001b[0;34m,\u001b[0m\u001b[0mnp\u001b[0m\u001b[0;34m.\u001b[0m\u001b[0mrandom\u001b[0m\u001b[0;34m.\u001b[0m\u001b[0mrandint\u001b[0m\u001b[0;34m(\u001b[0m\u001b[0;34m-\u001b[0m\u001b[0;36m10\u001b[0m\u001b[0;34m,\u001b[0m\u001b[0;36m10\u001b[0m\u001b[0;34m,\u001b[0m\u001b[0msize\u001b[0m\u001b[0;34m=\u001b[0m\u001b[0;34m(\u001b[0m\u001b[0mn\u001b[0m\u001b[0;34m,\u001b[0m\u001b[0;36m1\u001b[0m\u001b[0;34m)\u001b[0m\u001b[0;34m)\u001b[0m\u001b[0;34m)\u001b[0m\u001b[0;34m\u001b[0m\u001b[0;34m\u001b[0m\u001b[0m\n\u001b[0m\u001b[1;32m      5\u001b[0m \u001b[0mprint\u001b[0m\u001b[0;34m(\u001b[0m\u001b[0;34m'solution of Bx = b: \\n'\u001b[0m\u001b[0;34m,\u001b[0m\u001b[0mx\u001b[0m\u001b[0;34m)\u001b[0m\u001b[0;34m\u001b[0m\u001b[0;34m\u001b[0m\u001b[0m\n",
            "\u001b[0;32m<__array_function__ internals>\u001b[0m in \u001b[0;36msolve\u001b[0;34m(*args, **kwargs)\u001b[0m\n",
            "\u001b[0;32m/usr/local/lib/python3.6/dist-packages/numpy/linalg/linalg.py\u001b[0m in \u001b[0;36msolve\u001b[0;34m(a, b)\u001b[0m\n\u001b[1;32m    397\u001b[0m     \u001b[0msignature\u001b[0m \u001b[0;34m=\u001b[0m \u001b[0;34m'DD->D'\u001b[0m \u001b[0;32mif\u001b[0m \u001b[0misComplexType\u001b[0m\u001b[0;34m(\u001b[0m\u001b[0mt\u001b[0m\u001b[0;34m)\u001b[0m \u001b[0;32melse\u001b[0m \u001b[0;34m'dd->d'\u001b[0m\u001b[0;34m\u001b[0m\u001b[0;34m\u001b[0m\u001b[0m\n\u001b[1;32m    398\u001b[0m     \u001b[0mextobj\u001b[0m \u001b[0;34m=\u001b[0m \u001b[0mget_linalg_error_extobj\u001b[0m\u001b[0;34m(\u001b[0m\u001b[0m_raise_linalgerror_singular\u001b[0m\u001b[0;34m)\u001b[0m\u001b[0;34m\u001b[0m\u001b[0;34m\u001b[0m\u001b[0m\n\u001b[0;32m--> 399\u001b[0;31m     \u001b[0mr\u001b[0m \u001b[0;34m=\u001b[0m \u001b[0mgufunc\u001b[0m\u001b[0;34m(\u001b[0m\u001b[0ma\u001b[0m\u001b[0;34m,\u001b[0m \u001b[0mb\u001b[0m\u001b[0;34m,\u001b[0m \u001b[0msignature\u001b[0m\u001b[0;34m=\u001b[0m\u001b[0msignature\u001b[0m\u001b[0;34m,\u001b[0m \u001b[0mextobj\u001b[0m\u001b[0;34m=\u001b[0m\u001b[0mextobj\u001b[0m\u001b[0;34m)\u001b[0m\u001b[0;34m\u001b[0m\u001b[0;34m\u001b[0m\u001b[0m\n\u001b[0m\u001b[1;32m    400\u001b[0m \u001b[0;34m\u001b[0m\u001b[0m\n\u001b[1;32m    401\u001b[0m     \u001b[0;32mreturn\u001b[0m \u001b[0mwrap\u001b[0m\u001b[0;34m(\u001b[0m\u001b[0mr\u001b[0m\u001b[0;34m.\u001b[0m\u001b[0mastype\u001b[0m\u001b[0;34m(\u001b[0m\u001b[0mresult_t\u001b[0m\u001b[0;34m,\u001b[0m \u001b[0mcopy\u001b[0m\u001b[0;34m=\u001b[0m\u001b[0;32mFalse\u001b[0m\u001b[0;34m)\u001b[0m\u001b[0;34m)\u001b[0m\u001b[0;34m\u001b[0m\u001b[0;34m\u001b[0m\u001b[0m\n",
            "\u001b[0;32m/usr/local/lib/python3.6/dist-packages/numpy/linalg/linalg.py\u001b[0m in \u001b[0;36m_raise_linalgerror_singular\u001b[0;34m(err, flag)\u001b[0m\n\u001b[1;32m     95\u001b[0m \u001b[0;34m\u001b[0m\u001b[0m\n\u001b[1;32m     96\u001b[0m \u001b[0;32mdef\u001b[0m \u001b[0m_raise_linalgerror_singular\u001b[0m\u001b[0;34m(\u001b[0m\u001b[0merr\u001b[0m\u001b[0;34m,\u001b[0m \u001b[0mflag\u001b[0m\u001b[0;34m)\u001b[0m\u001b[0;34m:\u001b[0m\u001b[0;34m\u001b[0m\u001b[0;34m\u001b[0m\u001b[0m\n\u001b[0;32m---> 97\u001b[0;31m     \u001b[0;32mraise\u001b[0m \u001b[0mLinAlgError\u001b[0m\u001b[0;34m(\u001b[0m\u001b[0;34m\"Singular matrix\"\u001b[0m\u001b[0;34m)\u001b[0m\u001b[0;34m\u001b[0m\u001b[0;34m\u001b[0m\u001b[0m\n\u001b[0m\u001b[1;32m     98\u001b[0m \u001b[0;34m\u001b[0m\u001b[0m\n\u001b[1;32m     99\u001b[0m \u001b[0;32mdef\u001b[0m \u001b[0m_raise_linalgerror_nonposdef\u001b[0m\u001b[0;34m(\u001b[0m\u001b[0merr\u001b[0m\u001b[0;34m,\u001b[0m \u001b[0mflag\u001b[0m\u001b[0;34m)\u001b[0m\u001b[0;34m:\u001b[0m\u001b[0;34m\u001b[0m\u001b[0;34m\u001b[0m\u001b[0m\n",
            "\u001b[0;31mLinAlgError\u001b[0m: Singular matrix"
          ]
        }
      ]
    },
    {
      "cell_type": "markdown",
      "metadata": {
        "id": "k-LYuZYagOJe",
        "colab_type": "text"
      },
      "source": [
        "- 아래는 numpy가 아닌 cupy로 같은 matrix를 생성해 보겠습니다. cupy는 GPU를 이용해 numpy 연산을 할 수 있게 해 줍니다. NVIDIA GPU의 CUDA를 통해 연산속도를 빠르게 하기 때문에 cupy로 이름지어졌습니다."
      ]
    },
    {
      "cell_type": "code",
      "metadata": {
        "id": "Kf6-W8wiUd-F",
        "colab_type": "code",
        "colab": {
          "base_uri": "https://localhost:8080/",
          "height": 391
        },
        "outputId": "de8b9a89-5651-42cb-db59-282ed4b613ee"
      },
      "source": [
        "n=8\n",
        "Ac = cp.random.randint(-10,10,size=(n,n))\n",
        "print('A=\\n',Ac)\n",
        "print('\\n det(A)=',np.linalg.det(Ac))\n",
        "\n",
        "Bc = cp.random.randint(-10,10,size=(n,n))\n",
        "Bc[1,:]=Bc[0,:]*2\n",
        "print('B=\\n',Bc)\n",
        "print('\\n det(B)=',np.linalg.det(Bc))"
      ],
      "execution_count": 4,
      "outputs": [
        {
          "output_type": "stream",
          "text": [
            "A=\n",
            " [[-5  9  6  7  3  9 -8  7]\n",
            " [ 3  8  8 -4  6  3  6  2]\n",
            " [ 3 -2 -6  9 -8  6  2 -1]\n",
            " [ 0 -1 -9  6 -5 -1  3 -8]\n",
            " [ 0 -2 -7  2 -6  9 -3 -6]\n",
            " [-4 -6  2  1  0 -1  1  5]\n",
            " [ 5  8  9 -9 -6  5  3 -4]\n",
            " [ 2 -2  4 -5 -5  4  8  1]]\n",
            "\n",
            " det(A)= 26033795.000000004\n",
            "B=\n",
            " [[  5  -2  -1   0   2   6   9   8]\n",
            " [ 10  -4  -2   0   4  12  18  16]\n",
            " [  5   1  -9   0  -4  -4  -2   4]\n",
            " [ -3  -1   9  -9   2   3  -6   5]\n",
            " [  8  -7   2  -8   5   5   4  -6]\n",
            " [-10  -4   1  -1   5  -7  -5  -6]\n",
            " [  7  -5  -7   6  -9   2   9  -9]\n",
            " [ -8   8   6   6  -6  -1  -2  -4]]\n",
            "\n",
            " det(B)= 0.0\n"
          ],
          "name": "stdout"
        }
      ]
    },
    {
      "cell_type": "markdown",
      "metadata": {
        "id": "4QWE62nSgptC",
        "colab_type": "text"
      },
      "source": [
        "- 먼저 GPU를 활용하지 않는 numpy로 큰 matrix에 대한 연산속도를 확인해 보겠습니다."
      ]
    },
    {
      "cell_type": "code",
      "metadata": {
        "id": "Ws690elHG-Lx",
        "colab_type": "code",
        "colab": {
          "base_uri": "https://localhost:8080/",
          "height": 51
        },
        "outputId": "e5927a3f-88f1-4fec-df60-f7d95cc7a25e"
      },
      "source": [
        "N=5000\n",
        "print(N,'x',N,' matrix:')\n",
        "A = np.random.randint(-10,10,size=(N,N))\n",
        "b = np.random.randint(-10,10,size=(N,N))\n",
        "#print('[A b] = \\n',np.concatenate((A,b),axis=1))\n",
        "#print('\\ndet(A)=',np.linalg.det(A))\n",
        "\n",
        "s0 = time.time()\n",
        "x=np.linalg.solve(A,b)\n",
        "solve_time=time.time() -s0\n",
        "print('computation time = ',solve_time,' sec')"
      ],
      "execution_count": 5,
      "outputs": [
        {
          "output_type": "stream",
          "text": [
            "5000 x 5000  matrix:\n",
            "computation time =  10.374380111694336  sec\n"
          ],
          "name": "stdout"
        }
      ]
    },
    {
      "cell_type": "markdown",
      "metadata": {
        "id": "S0iNxPJAgv55",
        "colab_type": "text"
      },
      "source": [
        "- 다음은 같은 size의 큰 matrix를 cupy로 연산해 속도를 측정해 보겠습니다."
      ]
    },
    {
      "cell_type": "code",
      "metadata": {
        "id": "phUU0BgKUsQA",
        "colab_type": "code",
        "colab": {
          "base_uri": "https://localhost:8080/",
          "height": 51
        },
        "outputId": "a0daca1b-f822-4c0d-9cc6-a36e318b9c0f"
      },
      "source": [
        "N=5000\n",
        "print(N,'x',N,' matrix:')\n",
        "Ac = cp.random.randint(-10,10,size=(N,N))\n",
        "bc = cp.random.randint(-10,10,size=(N,N))\n",
        "#print('[A b] = \\n',np.concatenate((A,b),axis=1))\n",
        "#print('\\ndet(A)=',np.linalg.det(A))\n",
        "\n",
        "s0 = time.time()\n",
        "xc=cp.linalg.solve(Ac,bc)\n",
        "solve_time=time.time() -s0\n",
        "print('computation time = ',solve_time,' sec')"
      ],
      "execution_count": 6,
      "outputs": [
        {
          "output_type": "stream",
          "text": [
            "5000 x 5000  matrix:\n",
            "computation time =  0.42931032180786133  sec\n"
          ],
          "name": "stdout"
        }
      ]
    },
    {
      "cell_type": "markdown",
      "metadata": {
        "id": "lGLeFRxMg2YS",
        "colab_type": "text"
      },
      "source": [
        "- 여러 matrix size에 대해 연산을 수행해 비교해보고자 1부터 10000까지의 숫자를 log scale로 생성해보려고 합니다. linspace와 logspace의 결과를 비교해 봅시다. np.int16은 floating number를 integer로 변환해 줍니다. "
      ]
    },
    {
      "cell_type": "code",
      "metadata": {
        "id": "WZn36AvbPNnm",
        "colab_type": "code",
        "colab": {
          "base_uri": "https://localhost:8080/",
          "height": 170
        },
        "outputId": "94aa907a-ddfa-41f6-9866-663eeef24e58"
      },
      "source": [
        "mat_size_lin=np.linspace(1,10000,num=7)\n",
        "print('linear scale: \\n', mat_size_lin, '\\n')\n",
        "print('linear scale: \\n', np.int16(mat_size_lin), '\\n')\n",
        "\n",
        "mat_size_log=np.logspace(0,4,num=8)\n",
        "print('log scale: \\n', np.int16(mat_size_log))"
      ],
      "execution_count": 7,
      "outputs": [
        {
          "output_type": "stream",
          "text": [
            "linear scale: \n",
            " [1.0000e+00 1.6675e+03 3.3340e+03 5.0005e+03 6.6670e+03 8.3335e+03\n",
            " 1.0000e+04] \n",
            "\n",
            "linear scale: \n",
            " [    1  1667  3334  5000  6667  8333 10000] \n",
            "\n",
            "log scale: \n",
            " [    1     3    13    51   193   719  2682 10000]\n"
          ],
          "name": "stdout"
        }
      ]
    },
    {
      "cell_type": "markdown",
      "metadata": {
        "id": "3qqnece8Q13o",
        "colab_type": "text"
      },
      "source": [
        "- 아래에서 nn은 1에서 10000까지 logscale로 몇 개의 숫자를 생성할 지 정합니다. mm은 특정 size의 matrix에 대해 몇 번 연산을 반복할 지 정합니다. 1번 측정하는 것은 에러가 있어 보통 이러한 시뮬레이션은 많은 수의 반복측정에 대한 평균을 구합니다. 그러나, 여기서는 5번 정도만 해보겠습니다. 먼저 numpy의 경우입니다."
      ]
    },
    {
      "cell_type": "code",
      "metadata": {
        "id": "qIjJ22BoPFgD",
        "colab_type": "code",
        "outputId": "e93c3881-7659-4f09-df2d-d0e91160c6ed",
        "colab": {
          "base_uri": "https://localhost:8080/",
          "height": 411
        }
      },
      "source": [
        "nn = 10\n",
        "mm = 5\n",
        "solve_time=np.zeros((nn,mm))\n",
        "mat_size=np.int16(np.logspace(1,4,num=nn))\n",
        "for n in range(0,nn):\n",
        "  N = mat_size[n]\n",
        "  print('size: ',N)\n",
        "  flag_detA=0\n",
        "  for m in range(mm):\n",
        "    while flag_detA==0:\n",
        "      A = np.random.randint(-10,10,size=(N,N))\n",
        "      if np.linalg.det(A)!=0:\n",
        "        flag_detA=1\n",
        "    b = np.random.randint(-10,10,size=(N,1))\n",
        "    s0 = time.time()\n",
        "    np.linalg.solve(A,b)\n",
        "    solve_time[n,m]=time.time() -s0\n",
        "  print(np.mean(solve_time[n,:]),'sec')"
      ],
      "execution_count": 8,
      "outputs": [
        {
          "output_type": "stream",
          "text": [
            "size:  10\n",
            "3.871917724609375e-05 sec\n",
            "size:  21\n",
            "5.173683166503906e-05 sec\n",
            "size:  46\n",
            "8.358955383300782e-05 sec\n",
            "size:  100\n",
            "0.00022830963134765626 sec\n",
            "size:  215\n",
            "0.00122528076171875 sec\n",
            "size:  464\n",
            "0.006574773788452148 sec\n",
            "size:  1000\n"
          ],
          "name": "stdout"
        },
        {
          "output_type": "stream",
          "text": [
            "/usr/local/lib/python3.6/dist-packages/numpy/linalg/linalg.py:2116: RuntimeWarning: overflow encountered in det\n",
            "  r = _umath_linalg.det(a, signature=signature)\n"
          ],
          "name": "stderr"
        },
        {
          "output_type": "stream",
          "text": [
            "0.03726162910461426 sec\n",
            "size:  2154\n",
            "0.2607573986053467 sec\n",
            "size:  4641\n",
            "2.2285697937011717 sec\n",
            "size:  10000\n",
            "20.12738013267517 sec\n"
          ],
          "name": "stdout"
        }
      ]
    },
    {
      "cell_type": "markdown",
      "metadata": {
        "id": "K3Eg3kgdhdUC",
        "colab_type": "text"
      },
      "source": [
        "- 같은 과정을 GPU를 사용하는 cupy로 연산합니다."
      ]
    },
    {
      "cell_type": "code",
      "metadata": {
        "id": "Dkc8B3v6VkON",
        "colab_type": "code",
        "colab": {
          "base_uri": "https://localhost:8080/",
          "height": 357
        },
        "outputId": "552c9cdd-4b56-44b0-ebb6-cef466540936"
      },
      "source": [
        "nn = 10\n",
        "mm = 5\n",
        "solve_time_cuda=cp.zeros((nn,mm))\n",
        "for n in range(0,nn):\n",
        "  N = mat_size[n]\n",
        "  print('size: ',N)\n",
        "  flag_detA=0\n",
        "  for m in range(mm):\n",
        "    while flag_detA==0:\n",
        "      A = cp.random.randint(-10,10,size=(N,N))\n",
        "      if cp.linalg.det(A)!=0:\n",
        "        flag_detA=1\n",
        "    b = cp.random.randint(-10,10,size=(N,1))\n",
        "    s0 = time.time()\n",
        "    cp.linalg.solve(A,b)\n",
        "    solve_time_cuda[n,m]=time.time() -s0\n",
        "  print(cp.mean(solve_time[n,:]),'sec')"
      ],
      "execution_count": 9,
      "outputs": [
        {
          "output_type": "stream",
          "text": [
            "size:  10\n",
            "3.871917724609375e-05 sec\n",
            "size:  21\n",
            "5.173683166503906e-05 sec\n",
            "size:  46\n",
            "8.358955383300782e-05 sec\n",
            "size:  100\n",
            "0.00022830963134765626 sec\n",
            "size:  215\n",
            "0.00122528076171875 sec\n",
            "size:  464\n",
            "0.006574773788452148 sec\n",
            "size:  1000\n",
            "0.03726162910461426 sec\n",
            "size:  2154\n",
            "0.2607573986053467 sec\n",
            "size:  4641\n",
            "2.2285697937011717 sec\n",
            "size:  10000\n",
            "20.12738013267517 sec\n"
          ],
          "name": "stdout"
        }
      ]
    },
    {
      "cell_type": "markdown",
      "metadata": {
        "id": "yYACtrRuN_Ot",
        "colab_type": "text"
      },
      "source": [
        "- numpy와 cupy로 수행한 결과를 plot하여 비교해 봅시다."
      ]
    },
    {
      "cell_type": "code",
      "metadata": {
        "id": "6z2-pzjmUFVw",
        "colab_type": "code",
        "outputId": "7acb4134-3eca-42c3-e92a-4ee6ab216260",
        "colab": {
          "base_uri": "https://localhost:8080/",
          "height": 450
        }
      },
      "source": [
        "import matplotlib.pyplot as plt\n",
        "\n",
        "plt.rcParams[\"figure.figsize\"]=(7,7)\n",
        "plt.rcParams.update({'font.size':14})\n",
        "plt.figure()\n",
        "ax=plt.gca()\n",
        "ax.plot(mat_size,solve_time.mean(axis=1))\n",
        "ax.plot(mat_size,cp.asnumpy(solve_time_cuda.mean(axis=1)))\n",
        "\n",
        "ax.set_xlabel('matrix size (n)')\n",
        "ax.set_ylabel('computation time (sec) - blue: numpy, orange: cupy')\n",
        "ax.grid('both')"
      ],
      "execution_count": 10,
      "outputs": [
        {
          "output_type": "display_data",
          "data": {
            "image/png": "[encoded data removed]",
            "text/plain": [
              "<Figure size 504x504 with 1 Axes>"
            ]
          },
          "metadata": {
            "tags": [],
            "needs_background": "light"
          }
        }
      ]
    },
    {
      "cell_type": "markdown",
      "metadata": {},
      "source": [
        "# Gauss-Jordan Elimination\n"
      ]
    },
    {
      "cell_type": "code",
      "execution_count": 46,
      "metadata": {},
      "outputs": [
        {
          "output_type": "execute_result",
          "data": {
            "text/plain": "array([[2., 3., 1., 0.],\n       [4., 7., 0., 1.]])"
          },
          "metadata": {},
          "execution_count": 46
        }
      ],
      "source": [
        "A = np.array([ [2,3], [4,7] ])\n",
        "I = np.identity(2)\n",
        "Ag = np.concatenate((A,I),axis=1)\n",
        "Ag"
      ]
    },
    {
      "cell_type": "code",
      "execution_count": 47,
      "metadata": {},
      "outputs": [
        {
          "output_type": "execute_result",
          "data": {
            "text/plain": "array([[ 2.,  3.,  1.,  0.],\n       [ 0.,  1., -2.,  1.]])"
          },
          "metadata": {},
          "execution_count": 47
        }
      ],
      "source": [
        "# step 1. A -> U\n",
        "Ag[1,:] = -2*Ag[0,:] + Ag[1,:] \n",
        "Ag"
      ]
    },
    {
      "cell_type": "code",
      "execution_count": 48,
      "metadata": {},
      "outputs": [
        {
          "output_type": "execute_result",
          "data": {
            "text/plain": "array([[ 2.,  0.,  7., -3.],\n       [ 0.,  1., -2.,  1.]])"
          },
          "metadata": {},
          "execution_count": 48
        }
      ],
      "source": [
        "# step 2. U -> D\n",
        "Ag[0,:] = -3*Ag[1,:] + Ag[0,:]\n",
        "Ag"
      ]
    },
    {
      "cell_type": "code",
      "execution_count": 49,
      "metadata": {},
      "outputs": [
        {
          "output_type": "execute_result",
          "data": {
            "text/plain": "array([[ 1. ,  0. ,  3.5, -1.5],\n       [ 0. ,  1. , -2. ,  1. ]])"
          },
          "metadata": {},
          "execution_count": 49
        }
      ],
      "source": [
        "# step 3. D -> I\n",
        "Ag[0,:] = 0.5*Ag[0,:]\n",
        "Ag"
      ]
    },
    {
      "cell_type": "markdown",
      "metadata": {
        "id": "ym2lVOvOR-nT",
        "colab_type": "text"
      },
      "source": [
        "# Elimination = Factorization\n",
        "\n",
        "- 이번에는 Factorization, PA=LU를 python을 이용해 수행해 보겠습니다.\n",
        "- scipy라는 numpy와 함께 널리 쓰이는 python package를 불러올 것입니다. scipy도 linear algebra와 관련된 유용한 함수들을 포함하고 있습니다. 아래의 링크를 참고해 주세요.\n",
        "- https://docs.scipy.org/doc/scipy-0.14.0/reference/linalg.html"
      ]
    },
    {
      "cell_type": "code",
      "metadata": {
        "id": "KrNrDdduXrGQ",
        "colab_type": "code",
        "colab": {}
      },
      "source": [
        "import scipy.linalg as la"
      ],
      "execution_count": 7,
      "outputs": []
    },
    {
      "cell_type": "markdown",
      "metadata": {
        "id": "97EeEZMyiX9x",
        "colab_type": "text"
      },
      "source": [
        "- 다음과 같은 3 x 3 matrix A를 선언하여 P, L, U 를 구해 보겠습니다. 직접 손으로 풀어본 후에 실습을 진행하기를 권장합니다."
      ]
    },
    {
      "cell_type": "code",
      "metadata": {
        "id": "cQdtVTWMYTBF",
        "colab_type": "code",
        "colab": {
          "base_uri": "https://localhost:8080/",
          "height": 85
        },
        "outputId": "d1364595-e924-4a59-c037-56011284c44f"
      },
      "source": [
        "A = np.array([[0,1,1],[1,2,1],[2,7,9]])\n",
        "print('A = \\n',A)"
      ],
      "execution_count": 19,
      "outputs": [
        {
          "output_type": "stream",
          "name": "stdout",
          "text": "A = \n [[0 1 1]\n [1 2 1]\n [2 7 9]]\n"
        }
      ]
    },
    {
      "cell_type": "markdown",
      "metadata": {
        "id": "dPd87MXJiiYW",
        "colab_type": "text"
      },
      "source": [
        "- .lu라는 함수에 A를 넣음으로 P, L, U를 각각 얻을 수 있습니다."
      ]
    },
    {
      "cell_type": "code",
      "metadata": {
        "id": "YpOU8f18ZknA",
        "colab_type": "code",
        "colab": {
          "base_uri": "https://localhost:8080/",
          "height": 221
        },
        "outputId": "fcae4895-1bad-4ac0-9753-798a3fa646bf"
      },
      "source": [
        "P,L,U = la.lu(A)\n",
        "print('P = \\n',P)\n",
        "print('L = \\n',L)\n",
        "print('U = \\n',U)\n",
        "\n",
        "print('inv(L) = \\n',np.linalg.inv(L))"
      ],
      "execution_count": 21,
      "outputs": [
        {
          "output_type": "stream",
          "name": "stdout",
          "text": "P = \n [[0. 0. 1.]\n [0. 1. 0.]\n [1. 0. 0.]]\nL = \n [[ 1.          0.          0.        ]\n [ 0.5         1.          0.        ]\n [ 0.         -0.66666667  1.        ]]\nU = \n [[ 2.          7.          9.        ]\n [ 0.         -1.5        -3.5       ]\n [ 0.          0.         -1.33333333]]\ninv(L) = \n [[ 1.          0.          0.        ]\n [-0.5         1.          0.        ]\n [-0.33333333  0.66666667  1.        ]]\n"
        }
      ]
    },
    {
      "cell_type": "markdown",
      "metadata": {
        "id": "-JWL7BaDiowm",
        "colab_type": "text"
      },
      "source": [
        "- PA와 LU가 같은 값을 출력하는지 확인해 봅니다."
      ]
    },
    {
      "cell_type": "code",
      "metadata": {
        "id": "xvdzKjX7aG2e",
        "colab_type": "code",
        "colab": {
          "base_uri": "https://localhost:8080/",
          "height": 153
        },
        "outputId": "5acb5a9d-3955-406b-970a-004e10bd10f8"
      },
      "source": [
        "print('PA = \\n',np.dot(P,A))\n",
        "print('LU = \\n',np.matmul(L,U))"
      ],
      "execution_count": 22,
      "outputs": [
        {
          "output_type": "stream",
          "name": "stdout",
          "text": "PA = \n [[2. 7. 9.]\n [1. 2. 1.]\n [0. 1. 1.]]\nLU = \n [[2. 7. 9.]\n [1. 2. 1.]\n [0. 1. 1.]]\n"
        }
      ]
    },
    {
      "cell_type": "markdown",
      "metadata": {
        "id": "iFHdiAE8issG",
        "colab_type": "text"
      },
      "source": [
        "- Permutation matrix의 transpose matrix와 inverse matrix를 numpy를 이용해 구해봅니다."
      ]
    },
    {
      "cell_type": "code",
      "metadata": {
        "id": "oTt0C5bmbFnq",
        "colab_type": "code",
        "colab": {
          "base_uri": "https://localhost:8080/",
          "height": 153
        },
        "outputId": "a5295987-8dfa-4b15-a2a0-46a5556172a6"
      },
      "source": [
        "Pt = np.transpose(P)\n",
        "print('transpose of P = \\n',Pt)\n",
        "Pinv = np.linalg.inv(P)\n",
        "print('inverse of P = \\n',Pinv)"
      ],
      "execution_count": 15,
      "outputs": [
        {
          "output_type": "stream",
          "text": [
            "transpose of P = \n",
            " [[0. 0. 1.]\n",
            " [0. 1. 0.]\n",
            " [1. 0. 0.]]\n",
            "inverse of P = \n",
            " [[0. 0. 1.]\n",
            " [0. 1. 0.]\n",
            " [1. 0. 0.]]\n"
          ],
          "name": "stdout"
        }
      ]
    },
    {
      "cell_type": "markdown",
      "metadata": {
        "id": "WzgIcExRi2FS",
        "colab_type": "text"
      },
      "source": [
        "- permutation matrix를 한 번 곱했을 때, 두 번 곱했을 때의 결과를 확인해 봅니다."
      ]
    },
    {
      "cell_type": "code",
      "metadata": {
        "id": "W_tPrWQAbYH5",
        "colab_type": "code",
        "colab": {
          "base_uri": "https://localhost:8080/",
          "height": 153
        },
        "outputId": "8545f4e8-38d0-4aae-9fa4-a99de1be2f29"
      },
      "source": [
        "print('PA = \\n',np.matmul(P,A))\n",
        "print('PPA = \\n',np.matmul(P,np.matmul(P,A)))"
      ],
      "execution_count": 16,
      "outputs": [
        {
          "output_type": "stream",
          "text": [
            "PA = \n",
            " [[2. 7. 9.]\n",
            " [1. 2. 1.]\n",
            " [0. 1. 1.]]\n",
            "PPA = \n",
            " [[0. 1. 1.]\n",
            " [1. 2. 1.]\n",
            " [2. 7. 9.]]\n"
          ],
          "name": "stdout"
        }
      ]
    }
  ]
}