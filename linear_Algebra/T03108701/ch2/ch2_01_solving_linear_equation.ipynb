{
  "nbformat": 4,
  "nbformat_minor": 0,
  "metadata": {
    "colab": {
      "name": "ch2_01_solving_linear_equation.ipynb",
      "provenance": [],
      "collapsed_sections": []
    },
    "kernelspec": {
      "name": "python3",
      "display_name": "Python 3"
    }
  },
  "cells": [
    {
      "cell_type": "markdown",
      "metadata": {
        "colab_type": "text",
        "id": "-K3ytRspwc5u"
      },
      "source": [
        "# 2. Solving Linear Equation\n",
        "Python의 numpy를 이용하여 linear equation을 풀어보는 실습을 진행합니다."
      ]
    },
    {
      "cell_type": "code",
      "metadata": {
        "colab_type": "code",
        "id": "y63sqZDCq9vT",
        "colab": {}
      },
      "source": [
        "import numpy as np\n",
        "import matplotlib.pyplot as plt"
      ],
      "execution_count": 0,
      "outputs": []
    },
    {
      "cell_type": "markdown",
      "metadata": {
        "colab_type": "text",
        "id": "SDnNVNcnw-On"
      },
      "source": [
        "다음과 같은 linear equation을 푸는 것을 생각해 봅시다.\n",
        " -  2x + 4y - 2z = 2\n",
        " -  4x + 9y - 3z = 8\n",
        " - -2x - 3y + 7z = 10\n",
        "\n",
        "matrix A와 vector b를 아래와 같이 정의할 수 있습니다.\n"
      ]
    },
    {
      "cell_type": "code",
      "metadata": {
        "id": "tFvHd3AeR8_T",
        "colab_type": "code",
        "outputId": "e3939618-154e-4458-be27-27b3567e978e",
        "colab": {
          "base_uri": "https://localhost:8080/",
          "height": 187
        }
      },
      "source": [
        "A = np.array([[2,4,-2],[4,9,-3],[-2,-3,7]])\n",
        "b = np.array([[2],[8],[10]])\n",
        "\n",
        "print(A)\n",
        "print(A.shape)\n",
        "print(b)\n",
        "print(b.shape)\n",
        "\n",
        "print(A[0,0])\n",
        "print(A[1,0])"
      ],
      "execution_count": 2,
      "outputs": [
        {
          "output_type": "stream",
          "text": [
            "[[ 2  4 -2]\n",
            " [ 4  9 -3]\n",
            " [-2 -3  7]]\n",
            "(3, 3)\n",
            "[[ 2]\n",
            " [ 8]\n",
            " [10]]\n",
            "(3, 1)\n",
            "2\n",
            "4\n"
          ],
          "name": "stdout"
        }
      ]
    },
    {
      "cell_type": "markdown",
      "metadata": {
        "id": "3qqnece8Q13o",
        "colab_type": "text"
      },
      "source": [
        "augmented matrix [A b]를 생성해 봅시다. \n",
        "- np.concatenate를 axis를 정의하여 사용하면 두 matrix를 합칠 수가 있습니다. \n",
        "- np.c_, np.r_을 사용할 수도 있습니다. \n",
        "- np.c_[]는 column을 이어 붙일 수 있습니다. np.r_[]은 row로 이어붙일 수 있습니다. "
      ]
    },
    {
      "cell_type": "code",
      "metadata": {
        "id": "qIjJ22BoPFgD",
        "colab_type": "code",
        "colab": {
          "base_uri": "https://localhost:8080/",
          "height": 119
        },
        "outputId": "1c27409e-4df1-4cbf-8946-c12ac1bc21f6"
      },
      "source": [
        "print(np.c_[A,b])\n",
        "print(np.concatenate((A,b),axis=1))"
      ],
      "execution_count": 3,
      "outputs": [
        {
          "output_type": "stream",
          "text": [
            "[[ 2  4 -2  2]\n",
            " [ 4  9 -3  8]\n",
            " [-2 -3  7 10]]\n",
            "[[ 2  4 -2  2]\n",
            " [ 4  9 -3  8]\n",
            " [-2 -3  7 10]]\n"
          ],
          "name": "stdout"
        }
      ]
    },
    {
      "cell_type": "markdown",
      "metadata": {
        "id": "yYACtrRuN_Ot",
        "colab_type": "text"
      },
      "source": [
        "손으로 풀었던 과정을 파이썬 코드를 이용해 다시 반복해 보겠습니다. 먼저 첫 번째 pivot을 이용하여 2번째, 3번째 row의 첫 번째 값들을 0으로 만듭시다."
      ]
    },
    {
      "cell_type": "code",
      "metadata": {
        "id": "6z2-pzjmUFVw",
        "colab_type": "code",
        "outputId": "1cc2699a-a65b-4f99-f595-2804fe6eb66b",
        "colab": {
          "base_uri": "https://localhost:8080/",
          "height": 170
        }
      },
      "source": [
        "Ab = np.concatenate((A,b),axis=1)\n",
        "print(Ab)\n",
        "l21 = -Ab[1,0]/Ab[0,0]\n",
        "Ab[1,:] = l21*Ab[0,:] + Ab[1,:]\n",
        "print(Ab)\n",
        "l31 = -Ab[2,0]/Ab[0,0]\n",
        "Ab[2,:] = l31*Ab[0,:] + Ab[2,:]\n",
        "print(Ab)"
      ],
      "execution_count": 4,
      "outputs": [
        {
          "output_type": "stream",
          "text": [
            "[[ 2  4 -2  2]\n",
            " [ 4  9 -3  8]\n",
            " [-2 -3  7 10]]\n",
            "[[ 2  4 -2  2]\n",
            " [ 0  1  1  4]\n",
            " [-2 -3  7 10]]\n",
            "[[ 2  4 -2  2]\n",
            " [ 0  1  1  4]\n",
            " [ 0  1  5 12]]\n"
          ],
          "name": "stdout"
        }
      ]
    },
    {
      "cell_type": "markdown",
      "metadata": {
        "id": "ym2lVOvOR-nT",
        "colab_type": "text"
      },
      "source": [
        "다음은 두 번째 pivot을 이용하여 세 번째 row의 두 번째 값도 0으로 만듭시다. 그러면 upper triangular matrix U가 완성될 것입니다."
      ]
    },
    {
      "cell_type": "code",
      "metadata": {
        "id": "L6VWug_JQhmn",
        "colab_type": "code",
        "colab": {
          "base_uri": "https://localhost:8080/",
          "height": 68
        },
        "outputId": "1232eb59-8652-4dbc-c3e3-407836c70160"
      },
      "source": [
        "l32 = -Ab[2,1]/Ab[1,1]\n",
        "Ab[2,:] = l32*Ab[1,:] + Ab[2,:]\n",
        "print(Ab)"
      ],
      "execution_count": 5,
      "outputs": [
        {
          "output_type": "stream",
          "text": [
            "[[ 2  4 -2  2]\n",
            " [ 0  1  1  4]\n",
            " [ 0  0  4  8]]\n"
          ],
          "name": "stdout"
        }
      ]
    },
    {
      "cell_type": "markdown",
      "metadata": {
        "id": "CAXLDxEuST4U",
        "colab_type": "text"
      },
      "source": [
        "우리의 linear equation은 다음과 같이 정리가 되었습니다.\n",
        "- -2x + 4y - 2z  = 2\n",
        "-        y +  z  = 4\n",
        "-            4z  = 8\n",
        "\n",
        "우리는 back substitution을 통해 z, y, x를 순서대로 구할 수 있습니다."
      ]
    },
    {
      "cell_type": "code",
      "metadata": {
        "id": "7SeUjBAVSR3j",
        "colab_type": "code",
        "colab": {
          "base_uri": "https://localhost:8080/",
          "height": 68
        },
        "outputId": "ea301842-570c-479e-cb6e-300653c69dd0"
      },
      "source": [
        "z = Ab[2,3]/Ab[2,2]\n",
        "print('z =',z)\n",
        "y = (Ab[1,3]-Ab[1,2]*z)/Ab[1,1]\n",
        "print('y =',y)\n",
        "x = (Ab[0,3]-Ab[0,2]*z-Ab[0,1]*y)/Ab[0,0]\n",
        "print('x =',x)"
      ],
      "execution_count": 6,
      "outputs": [
        {
          "output_type": "stream",
          "text": [
            "z = 2.0\n",
            "y = 2.0\n",
            "x = -1.0\n"
          ],
          "name": "stdout"
        }
      ]
    },
    {
      "cell_type": "code",
      "metadata": {
        "id": "HX_eFIIeTzv2",
        "colab_type": "code",
        "colab": {
          "base_uri": "https://localhost:8080/",
          "height": 119
        },
        "outputId": "66913274-610c-48a9-aa6b-154ee30ee197"
      },
      "source": [
        "r = np.matmul(A,[[x],[y],[z]])\n",
        "print('r=',r)\n",
        "print('b=',b)"
      ],
      "execution_count": 7,
      "outputs": [
        {
          "output_type": "stream",
          "text": [
            "r= [[ 2.]\n",
            " [ 8.]\n",
            " [10.]]\n",
            "b= [[ 2]\n",
            " [ 8]\n",
            " [10]]\n"
          ],
          "name": "stdout"
        }
      ]
    },
    {
      "cell_type": "markdown",
      "metadata": {
        "id": "UrGafrqeXlnI",
        "colab_type": "text"
      },
      "source": [
        "이번에는 같은 문제를 matrix를 이용하여 풀어 보겠습니다. Elimination matrix를 간편하게 정의하기 위해 Identity matrix를 먼저 정의합니다."
      ]
    },
    {
      "cell_type": "code",
      "metadata": {
        "id": "Kumv-ToIXrWn",
        "colab_type": "code",
        "colab": {
          "base_uri": "https://localhost:8080/",
          "height": 68
        },
        "outputId": "6ff1350f-99d3-4d99-9d4c-a44b986befa3"
      },
      "source": [
        "I = np.identity(3)\n",
        "print(I)\n"
      ],
      "execution_count": 8,
      "outputs": [
        {
          "output_type": "stream",
          "text": [
            "[[1. 0. 0.]\n",
            " [0. 1. 0.]\n",
            " [0. 0. 1.]]\n"
          ],
          "name": "stdout"
        }
      ]
    },
    {
      "cell_type": "code",
      "metadata": {
        "id": "LLQridSuZJoA",
        "colab_type": "code",
        "colab": {
          "base_uri": "https://localhost:8080/",
          "height": 493
        },
        "outputId": "6fd6a429-f140-4395-d484-5973699a9b17"
      },
      "source": [
        "print('step 0 - [A b]')\n",
        "Ab = np.concatenate((A,b),axis=1)\n",
        "print(Ab)\n",
        "\n",
        "print('E21:')\n",
        "E21 = np.identity(3)\n",
        "E21[1,0] = -Ab[1,0]/Ab[0,0]\n",
        "print(E21)\n",
        "\n",
        "print('step 1 - E21 [A b]')\n",
        "Ab = np.matmul(E21,Ab)\n",
        "print(Ab)\n",
        "\n",
        "print('E31: ')\n",
        "E31 = np.identity(3)\n",
        "E31[2,0] = -Ab[2,0]/Ab[0,0]\n",
        "print(E31)\n",
        "\n",
        "print('step 2 - E31 E21 [A b]')\n",
        "Ab = np.matmul(E31,Ab)\n",
        "print(Ab)\n",
        "\n",
        "print('E32:')\n",
        "E32 = np.identity(3)\n",
        "E32[2,1] = -Ab[2,1]/Ab[1,1]\n",
        "print(E32)\n",
        "\n",
        "print('step 3 - E32 E31 E21 [A b]')\n",
        "Ab = np.matmul(E32,Ab)\n",
        "print(Ab)"
      ],
      "execution_count": 9,
      "outputs": [
        {
          "output_type": "stream",
          "text": [
            "step 0 - [A b]\n",
            "[[ 2  4 -2  2]\n",
            " [ 4  9 -3  8]\n",
            " [-2 -3  7 10]]\n",
            "E21:\n",
            "[[ 1.  0.  0.]\n",
            " [-2.  1.  0.]\n",
            " [ 0.  0.  1.]]\n",
            "step 1 - E21 [A b]\n",
            "[[ 2.  4. -2.  2.]\n",
            " [ 0.  1.  1.  4.]\n",
            " [-2. -3.  7. 10.]]\n",
            "E31: \n",
            "[[1. 0. 0.]\n",
            " [0. 1. 0.]\n",
            " [1. 0. 1.]]\n",
            "step 2 - E31 E21 [A b]\n",
            "[[ 2.  4. -2.  2.]\n",
            " [ 0.  1.  1.  4.]\n",
            " [ 0.  1.  5. 12.]]\n",
            "E32:\n",
            "[[ 1.  0.  0.]\n",
            " [ 0.  1.  0.]\n",
            " [ 0. -1.  1.]]\n",
            "step 3 - E32 E31 E21 [A b]\n",
            "[[ 2.  4. -2.  2.]\n",
            " [ 0.  1.  1.  4.]\n",
            " [ 0.  0.  4.  8.]]\n"
          ],
          "name": "stdout"
        }
      ]
    },
    {
      "cell_type": "markdown",
      "metadata": {
        "id": "j-Vbz7cyUeah",
        "colab_type": "text"
      },
      "source": [
        "위의 과정은 python을 이용한 matrix의 연산에 익숙해지기 위한 연습입니다. 사실 numpy에는 linear equation solver 함수를 이미 가지고 있습니다. np.linalg.solve()라는 함수에 A와 b를 넣으면 x를 연산해 줍니다."
      ]
    },
    {
      "cell_type": "code",
      "metadata": {
        "id": "_lUqVSaOUsH5",
        "colab_type": "code",
        "colab": {
          "base_uri": "https://localhost:8080/",
          "height": 68
        },
        "outputId": "10b10656-842f-4a19-bbc4-984f4b7d6844"
      },
      "source": [
        "xyz = np.linalg.solve(A,b)\n",
        "print(xyz)"
      ],
      "execution_count": 10,
      "outputs": [
        {
          "output_type": "stream",
          "text": [
            "[[-1.]\n",
            " [ 2.]\n",
            " [ 2.]]\n"
          ],
          "name": "stdout"
        }
      ]
    },
    {
      "cell_type": "markdown",
      "metadata": {
        "id": "mIBYOxSYVcvP",
        "colab_type": "text"
      },
      "source": [
        "여러 b에 대해 한꺼번에 solution을 구할 수도 있습니다."
      ]
    },
    {
      "cell_type": "code",
      "metadata": {
        "id": "csU1D1fhVMRF",
        "colab_type": "code",
        "colab": {
          "base_uri": "https://localhost:8080/",
          "height": 68
        },
        "outputId": "b3afbb19-b26b-4b71-9ca0-0174fe16d143"
      },
      "source": [
        "np.linalg.solve(A,np.concatenate((b,2*b,3*b),axis=1))"
      ],
      "execution_count": 11,
      "outputs": [
        {
          "output_type": "execute_result",
          "data": {
            "text/plain": [
              "array([[-1., -2., -3.],\n",
              "       [ 2.,  4.,  6.],\n",
              "       [ 2.,  4.,  6.]])"
            ]
          },
          "metadata": {
            "tags": []
          },
          "execution_count": 11
        }
      ]
    },
    {
      "cell_type": "markdown",
      "metadata": {
        "id": "Y8hyl9fOWhS9",
        "colab_type": "text"
      },
      "source": [
        "다음은 연산시간을 측정하기 위해 time이라는 패키지를 불러오겠습니다."
      ]
    },
    {
      "cell_type": "code",
      "metadata": {
        "id": "YA8OpObnWNVe",
        "colab_type": "code",
        "colab": {}
      },
      "source": [
        "import time"
      ],
      "execution_count": 0,
      "outputs": []
    },
    {
      "cell_type": "markdown",
      "metadata": {
        "id": "6eMYKDWZWmkm",
        "colab_type": "text"
      },
      "source": [
        "3x3 matrix A 와 3x1 vector b가 있을 때 Ax=b를 푸는 시간을 측정해 봅시다."
      ]
    },
    {
      "cell_type": "code",
      "metadata": {
        "id": "hbMJy4XOWf-Q",
        "colab_type": "code",
        "colab": {
          "base_uri": "https://localhost:8080/",
          "height": 34
        },
        "outputId": "0dfcf3d7-7f98-453c-e5b6-2bfa46484445"
      },
      "source": [
        "s0 = time.time()\n",
        "np.linalg.solve(A,b)\n",
        "print(time.time() -s0,'sec')"
      ],
      "execution_count": 13,
      "outputs": [
        {
          "output_type": "stream",
          "text": [
            "0.0002803802490234375 sec\n"
          ],
          "name": "stdout"
        }
      ]
    }
  ]
}
