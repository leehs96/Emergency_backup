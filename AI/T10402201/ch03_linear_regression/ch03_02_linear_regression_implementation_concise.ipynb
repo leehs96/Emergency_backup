{
  "nbformat": 4,
  "nbformat_minor": 0,
  "metadata": {
    "colab": {
      "name": "Untitled0.ipynb",
      "provenance": [],
      "collapsed_sections": [],
      "authorship_tag": "ABX9TyP00Enp09B21YD5jTUT4kN1",
      "include_colab_link": true
    },
    "kernelspec": {
      "name": "python3",
      "display_name": "Python 3"
    }
  },
  "cells": [
    {
      "cell_type": "markdown",
      "metadata": {
        "id": "view-in-github",
        "colab_type": "text"
      },
      "source": [
        "<a href=\"https://colab.research.google.com/github/YoonhoNam/hufsclass/blob/master/ch3_01_linear_regression_implementation_concise.ipynb\" target=\"_parent\"><img src=\"https://colab.research.google.com/assets/colab-badge.svg\" alt=\"Open In Colab\"/></a>"
      ]
    },
    {
      "cell_type": "markdown",
      "metadata": {
        "id": "gLUjqmVBGD5W",
        "colab_type": "text"
      },
      "source": [
        "# 3.3. Concise Implementation of Linear Regression"
      ]
    },
    {
      "cell_type": "markdown",
      "metadata": {
        "id": "rRajmP47Saer",
        "colab_type": "text"
      },
      "source": [
        "- PyTorch에서 제공하는 함수들을 활용하면 보다 간단하게 동일한 linear regression모델을 구현하고 훈련하는 과정을 확인해 볼 수 있습니다. "
      ]
    },
    {
      "cell_type": "code",
      "metadata": {
        "id": "Zh63oISmGDGN",
        "colab_type": "code",
        "colab": {}
      },
      "source": [
        "import torch\n",
        "from torch.utils.data import DataLoader, TensorDataset\n",
        "from torch import nn"
      ],
      "execution_count": 0,
      "outputs": []
    },
    {
      "cell_type": "code",
      "metadata": {
        "id": "VQahO3LmGdQL",
        "colab_type": "code",
        "colab": {}
      },
      "source": [
        "# generating the synthetic dataset\n",
        "def synthetic_data(w, b, num_examples):\n",
        "  X = torch.zeros(size=(num_examples,len(w))).normal_(mean=0,std=1)\n",
        "  y = torch.matmul(X, w) + b\n",
        "  y += torch.zeros(size=y.shape).normal_(mean=0,std=0.01)\n",
        "  return X, y\n",
        "true_w = torch.tensor([[2],[-3.4]])\n",
        "true_b = torch.tensor(4.2)\n",
        "features, labels = synthetic_data(true_w, true_b, 1000)"
      ],
      "execution_count": 0,
      "outputs": []
    },
    {
      "cell_type": "code",
      "metadata": {
        "id": "V-11XGuIGkwo",
        "colab_type": "code",
        "colab": {}
      },
      "source": [
        "# setting hyper-parameters\n",
        "batch_size = 10\n",
        "learning_rate = 0.03\n",
        "num_epochs = 5\n",
        "\n",
        "# defining data_iter, linreg. model, loss, sgd\n",
        "data_iter = DataLoader(dataset=TensorDataset(features,labels),batch_size=batch_size,shuffle=True) # data_iter\n",
        "linreg = nn.Linear(2,1,bias=True) # model\n",
        "linreg.weight.data=torch.zeros(size=(1,2)).normal_(std=0.01) # parameter initialization (w)\n",
        "linreg.bias.data=torch.zeros(size=(1,)) # parameter initialization (b)\n",
        "loss = torch.nn.MSELoss() # loss\n",
        "alg = torch.optim.SGD(linreg.parameters(),lr=learning_rate) # sgd"
      ],
      "execution_count": 0,
      "outputs": []
    },
    {
      "cell_type": "code",
      "metadata": {
        "id": "1r06T-2vMVVg",
        "colab_type": "code",
        "colab": {
          "base_uri": "https://localhost:8080/",
          "height": 139
        },
        "outputId": "fd794263-0005-4d64-e57f-d8530333505d"
      },
      "source": [
        "# training the model\n",
        "for epoch in range(num_epochs):\n",
        "  for X,y in data_iter:\n",
        "    l=loss(linreg(X),y)\n",
        "    alg.zero_grad()\n",
        "    l.backward()\n",
        "    alg.step()\n",
        "  l_epoch = loss(linreg(features),labels)\n",
        "  print('epoch %d, loss: %f' % (epoch, l_epoch))\n",
        "\n",
        "w=list(linreg.parameters())[0][0]\n",
        "print('Error in estimating w :',true_w.reshape(w.shape)-w)\n",
        "b=list(linreg.parameters())[1][0]\n",
        "print('Error in estimating b :',true_b-b)"
      ],
      "execution_count": 4,
      "outputs": [
        {
          "output_type": "stream",
          "text": [
            "epoch 0, loss: 0.000261\n",
            "epoch 1, loss: 0.000096\n",
            "epoch 2, loss: 0.000097\n",
            "epoch 3, loss: 0.000096\n",
            "epoch 4, loss: 0.000096\n",
            "Error in estimating w : tensor([0.0009, 0.0002], grad_fn=<SubBackward0>)\n",
            "Error in estimating b : tensor(0.0008, grad_fn=<SubBackward0>)\n"
          ],
          "name": "stdout"
        }
      ]
    },
    {
      "cell_type": "markdown",
      "metadata": {},
      "source": [
        "## Monitoring parameters\n",
        "각각의 함수가 실제 어떤 역할을 하는지 또는 내가 원하는 기능을 제대로 수행하는 판단하는 직관적이면서도 쉬운 방법은 함수가 어떤 변화를 만들고 있는 지를 관찰하는 것입니다. \n",
        "각각의 함수의 뒤에서 model의 parameter중 하나를 출력하여 어떤 변화가 일어나는지 관찰해 봅시다.\n"
      ]
    },
    {
      "cell_type": "code",
      "execution_count": null,
      "metadata": {},
      "outputs": [],
      "source": [
        "# monitring parameters\n",
        "linreg.weight.data=torch.zeros(size=(1,2)).normal_(std=0.01) # parameter initialization (w)\n",
        "linreg.bias.data=torch.zeros(size=(1,)) # parameter initialization (b)\n",
        "alg.zero_grad()\n",
        "for epoch in range(num_epochs):\n",
        "  i=0\n",
        "  for X,y in data_iter:\n",
        "    i=i+1\n",
        "    print('\\n iteration #',i)\n",
        "    print('#0 initial')\n",
        "    print('b:', list(linreg.parameters())[1],'b_grad:',list(linreg.parameters())[1].grad)\n",
        "    l=loss(linreg(X),y)\n",
        "    print('#1 linreg(), loss()')\n",
        "    print('b:', list(linreg.parameters())[1],'b_grad:',list(linreg.parameters())[1].grad)\n",
        "    alg.zero_grad()\n",
        "    print('#2 zero_grad()')\n",
        "    print('b:', list(linreg.parameters())[1],'b_grad:',list(linreg.parameters())[1].grad)\n",
        "    l.backward()\n",
        "    print('#3 backward()')\n",
        "    print('b:', list(linreg.parameters())[1],'b_grad:',list(linreg.parameters())[1].grad)\n",
        "    alg.step()\n",
        "    print('#4 step()')\n",
        "    print('b:', list(linreg.parameters())[1],'b_grad:',list(linreg.parameters())[1].grad)\n",
        "  break"
      ]
    }
  ]
}