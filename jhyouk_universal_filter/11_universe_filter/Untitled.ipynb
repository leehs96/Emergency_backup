{
 "cells": [
  {
   "cell_type": "code",
   "execution_count": 17,
   "metadata": {},
   "outputs": [
    {
     "name": "stdout",
     "output_type": "stream",
     "text": [
      "1842\n"
     ]
    }
   ],
   "source": [
    "import sys\n",
    "\n",
    "#input_fn = sys.argv[1]\n",
    "\n",
    "input_fn = 'TCGA-55-6972.tumor_indel_union_2.readinfo.readc.rasmy_PanelofNormal.filter1.vcf'\n",
    "\n",
    "input_file = file(input_fn)\n",
    "#output_file = file(input_fn.replace('.vcf','.true.vcf'),'w')\n",
    "input_line = input_file.readline().strip()\n",
    "#output_file.write(input_line+'\\n')\n",
    "input_line = input_file.readline().strip()\n",
    "\n",
    "t_num = 0\n",
    "\n",
    "while input_line:\n",
    "    input_split = input_line.split('\\t')\n",
    "    input_decision = input_split[34]\n",
    "    \n",
    "    if input_decision =='T':\n",
    "        t_num+=1\n",
    "\n",
    "    input_line = input_file.readline().strip()\n",
    "print t_num"
   ]
  },
  {
   "cell_type": "code",
   "execution_count": 21,
   "metadata": {},
   "outputs": [
    {
     "name": "stdout",
     "output_type": "stream",
     "text": [
      "GABRA1\n"
     ]
    }
   ],
   "source": [
    "import sys\n",
    "\n",
    "#input_fn = sys.argv[1]\n",
    "#input_fn = '2-22-Tumor_snp_union_2.readinfo.readc.rasmy_PanelofNormal.filter1.true.vcf.anv'\n",
    "#input_fn = '4-41-Tumor_snp_union_2.readinfo.readc.rasmy_PanelofNormal.filter1.true.vcf.anv'\n",
    "#input_fn = '5-67-Tumor_snp_union_2.readinfo.readc.rasmy_PanelofNormal.filter1.true.vcf.anv'\n",
    "input_fn = '6-105-Tumor_snp_union_2.readinfo.readc.rasmy_PanelofNormal.filter1.true.vcf.anv'\n",
    "\n",
    "input_file = file(input_fn)\n",
    "input_line = input_file.readline().strip()\n",
    "input_line = input_file.readline().strip()\n",
    "freq_gene = ['GNAQ', 'GNA11', 'BAP1', 'EIF1AX', 'SF3B1', 'TP53BP1', 'CSMD1', 'TTC28', 'DLK2', 'KTN1', 'CYSLTR2', 'SRFF2', 'MAPKAPK5', 'PLCB4']\n",
    "\n",
    "while input_line:\n",
    "    input_split = input_line.split('\\t')\n",
    "    input_exonic = input_split[35]\n",
    "    input_gene = input_split[36]\n",
    "    \n",
    "    if input_exonic == 'exonic':\n",
    "        print input_gene\n",
    "        if input_gene in freq_gene:\n",
    "            print 'OhmyGod : %s' %(input_gene)\n",
    "    input_line = input_file.readline().strip()\n",
    "\n",
    "    "
   ]
  },
  {
   "cell_type": "code",
   "execution_count": 28,
   "metadata": {},
   "outputs": [
    {
     "name": "stdout",
     "output_type": "stream",
     "text": [
      "3\n"
     ]
    }
   ],
   "source": [
    "import sys\n",
    "\n",
    "#input_fn = sys.argv[1]\n",
    "\n",
    "input_fn = '/home/users/jklee/Projects/06_Rearrangement/20_PCAWG/pcawg_luad_indel_nonfusion/03_TCGA_name/TCGA-50-6591.consensus.indel.vcf'\n",
    "\n",
    "input_file = file(input_fn)\n",
    "#output_file = file(input_fn.replace('.vcf','.true.vcf'),'w')\n",
    "input_line = input_file.readline().strip()\n",
    "#output_file.write(input_line+'\\n')\n",
    "while input_line[0:1]=='#':\n",
    "    input_line = input_file.readline().strip()\n",
    "t_alt = []\n",
    "while input_line:\n",
    "    input_info = input_line.split('\\t')[7]\n",
    "    #print input_info.split(';')\n",
    "    for i in input_info.split(';'):\n",
    "        if 't_alt_count' in i:\n",
    "            input_t_alt = int(i.split('=')[1])\n",
    "            \n",
    "    t_alt.append(input_t_alt)\n",
    "    input_line = input_file.readline().strip()\n",
    "print min(t_alt)"
   ]
  },
  {
   "cell_type": "code",
   "execution_count": null,
   "metadata": {},
   "outputs": [],
   "source": []
  }
 ],
 "metadata": {
  "kernelspec": {
   "display_name": "Python 2",
   "language": "python",
   "name": "python2"
  },
  "language_info": {
   "codemirror_mode": {
    "name": "ipython",
    "version": 2
   },
   "file_extension": ".py",
   "mimetype": "text/x-python",
   "name": "python",
   "nbconvert_exporter": "python",
   "pygments_lexer": "ipython2",
   "version": "2.7.14"
  }
 },
 "nbformat": 4,
 "nbformat_minor": 2
}
