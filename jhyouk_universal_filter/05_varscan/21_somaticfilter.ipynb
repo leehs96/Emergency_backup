{
 "cells": [
  {
   "cell_type": "code",
   "execution_count": 2,
   "metadata": {},
   "outputs": [
    {
     "name": "stdout",
     "output_type": "stream",
     "text": [
      "The End\n"
     ]
    }
   ],
   "source": [
    "import sys\n",
    "input_fn = sys.argv[1]\n",
    "#input_fn = 'S1-2Gy-1.varscan.snp.vcf'\n",
    "input_file = file(input_fn)\n",
    "output_fn = input_fn.replace(\".vcf\",\".somatic.vcf\")\n",
    "output_file = file(output_fn,'w')\n",
    "\n",
    "input_line = input_file.readline()\n",
    "while input_line:\n",
    "    if input_line[0:2] == '##':\n",
    "        'blank'\n",
    "    elif input_line[0:6] == '#CHROM':\n",
    "        output_file.write(input_line)\n",
    "    else:\n",
    "        input_split = input_line.split('\\t')\n",
    "        input_germline = input_split[9].split(':')[0]\n",
    "        input_somatic = input_split[10].split(':')[0]        \n",
    "        input_decision = input_split[6]\n",
    "        \n",
    "        var_germline = int(input_split[9].split(':')[4])\n",
    "        var_somatic = int(input_split[10].split(':')[4])\n",
    "        \n",
    "        vaf_germline = float(input_split[9].split(':')[5].replace('%',''))\n",
    "        vaf_somatic = float(input_split[10].split(':')[5].replace('%',''))\n",
    "        if input_decision == 'PASS':\n",
    "            if input_germline == '0/0' and input_somatic == '0/1' and var_germline<2 and var_somatic>=3:\n",
    "                output_file.write(input_line)\n",
    "            elif input_germline == '0/0' and input_somatic == '1/1' and var_germline<2 and var_somatic>=3:\n",
    "                output_file.write(input_line)        \n",
    "            elif input_germline == '0/1' and input_somatic == '0/0' and vaf_germline>=25 and var_somatic<2:\n",
    "                output_file.write(input_line)   \n",
    "            elif input_germline == '0/1' and input_somatic == '1/1' and vaf_germline>=25:\n",
    "                output_file.write(input_line) \n",
    "            elif input_germline == '1/1' and input_somatic == '0/1' and vaf_somatic>=25:\n",
    "                output_file.write(input_line)\n",
    "            elif input_germline == '1/1' and input_somatic == '0/0' and var_somatic<2:\n",
    "                output_file.write(input_line)\n",
    "            else:\n",
    "                'blank'\n",
    "        else:\n",
    "            'blank'\n",
    "    input_line = input_file.readline()\n",
    "print 'The End'"
   ]
  },
  {
   "cell_type": "code",
   "execution_count": null,
   "metadata": {},
   "outputs": [],
   "source": []
  }
 ],
 "metadata": {
  "kernelspec": {
   "display_name": "Python 2",
   "language": "python",
   "name": "python2"
  },
  "language_info": {
   "codemirror_mode": {
    "name": "ipython",
    "version": 2
   },
   "file_extension": ".py",
   "mimetype": "text/x-python",
   "name": "python",
   "nbconvert_exporter": "python",
   "pygments_lexer": "ipython2",
   "version": "2.7.14"
  }
 },
 "nbformat": 4,
 "nbformat_minor": 2
}
