{
 "cells": [
  {
   "cell_type": "code",
   "execution_count": 3,
   "metadata": {},
   "outputs": [
    {
     "name": "stdout",
     "output_type": "stream",
     "text": [
      "THE END\n"
     ]
    }
   ],
   "source": [
    "import sys\n",
    "\n",
    "input_fn = sys.argv[1]\n",
    "#input_fn = 'male_panc_L3SO4.delly.somatic.annotated.filter1.vcf'\n",
    "input_file = file(input_fn)\n",
    "output_file = file(input_fn.replace('.vcf','.reviewed.vcf'),'w')\n",
    "\n",
    "input_line = input_file.readline().strip()\n",
    "input_split = input_line.split('\\t')\n",
    "output_file.write('\\t'.join(input_split[0:11]) + '\\t' + \"Decision_denovo\" + '\\t' + '\\t'.join(input_split[11:13]) + '\\tMother_Ref1;Ref2;AllDiscordantFragments;SplitFragments;SATagFragments;Vaf1;Vaf2\\tRemarks' + '\\n')\n",
    "input_line = input_file.readline().strip()\n",
    "\n",
    "sv_cut = 0.8 #(cutoff = 0.5*0.6*sv_cut)\n",
    "\n",
    "while input_line:\n",
    "    input_split = input_line.split('\\t')\n",
    "    input_type = input_split[6]\n",
    "    input_t_vaf = float(input_split[10])\n",
    "    denovo = '.'\n",
    "    \n",
    "    if input_type == 'INS':\n",
    "        if input_t_vaf >= 0.5*0.6*sv_cut:\n",
    "            denovo = 'insertion_clonal'\n",
    "        else:\n",
    "            denovo = 'insertion_subclonal'\n",
    "    else:                \n",
    "        if input_split[9] == 'short_indel':\n",
    "            if input_t_vaf >= 0.5*0.6*sv_cut:\n",
    "                denovo = 'denovo_clonal_short_indel'\n",
    "            else:              \n",
    "                denovo = 'denovo_?_short_indel'\n",
    "        elif input_type == 'DUP' and input_t_vaf >=0.33*0.6*sv_cut:\n",
    "            denovo = 'denovo_clonal'\n",
    "        elif input_t_vaf >= 0.5*0.6*sv_cut:\n",
    "            denovo = 'denovo_clonal'   \n",
    "        else:\n",
    "            denovo = 'denovo_subclonal' \n",
    "\n",
    "    if input_split[7] == 'T1':   \n",
    "        output_file.write('\\t'.join(input_split[0:11]) + '\\t' + denovo + '\\t' + '\\t'.join(input_split[11:13])  + '\\t.\\t.' + '\\n')\n",
    "    else:\n",
    "        if input_split[9] == 'short_indel' or input_t_vaf < 0.1:\n",
    "            'blank'\n",
    "        else:\n",
    "            output_file.write('\\t'.join(input_split[0:11]) + '\\t' + denovo + '\\t' + '\\t'.join(input_split[11:13])  + '\\t.\\t.' + '\\n')\n",
    "    input_line = input_file.readline().strip()\n",
    "\n",
    "output_file.close()\n",
    "print 'THE END'"
   ]
  },
  {
   "cell_type": "code",
   "execution_count": null,
   "metadata": {},
   "outputs": [],
   "source": []
  }
 ],
 "metadata": {
  "kernelspec": {
   "display_name": "Python 2",
   "language": "python",
   "name": "python2"
  },
  "language_info": {
   "codemirror_mode": {
    "name": "ipython",
    "version": 2
   },
   "file_extension": ".py",
   "mimetype": "text/x-python",
   "name": "python",
   "nbconvert_exporter": "python",
   "pygments_lexer": "ipython2",
   "version": "2.7.16"
  }
 },
 "nbformat": 4,
 "nbformat_minor": 2
}
